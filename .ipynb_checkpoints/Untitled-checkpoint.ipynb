{
 "cells": [
  {
   "cell_type": "code",
   "execution_count": 5,
   "id": "09d1da65",
   "metadata": {},
   "outputs": [
    {
     "name": "stdout",
     "output_type": "stream",
     "text": [
      "['2022', '11', '21', '0', '15']\n",
      "https://www.toppreise.ch/browse/Computer-accessories/Computer-components/Graphics-cards-accessories/Graphics-cards-c37?q=rx%206600#d~757.515.680.346.1200.459.2185.48.73.895.306%2bs~pa%2ba~4\n",
      "https://www.toppreise.ch/browse/Computer-accessories/Computer-components/Graphics-cards-accessories/Graphics-cards-c37?q=rx%206600%20xt#d~757.515.680.346.1200.459.2185.48.73.895.306%2bs~pa%2ba~4\n",
      "https://www.toppreise.ch/browse/Computer-accessories/Computer-components/Graphics-cards-accessories/Graphics-cards-c37?q=rx%206650%20xt#d~757.515.680.346.1200.459.2185.48.73.895.306%2bs~pa%2ba~4\n",
      "https://www.toppreise.ch/browse/Computer-accessories/Computer-components/Graphics-cards-accessories/Graphics-cards-c37?q=rx%206700%20xt#d~757.515.680.346.1200.459.2185.48.73.895.306%2bs~pa%2ba~4\n",
      "https://www.toppreise.ch/browse/Computer-accessories/Computer-components/Graphics-cards-accessories/Graphics-cards-c37?q=rx%206750%20xt#d~757.515.680.346.1200.459.2185.48.73.895.306%2bs~pa%2ba~4\n",
      "https://www.toppreise.ch/browse/Computer-accessories/Computer-components/Graphics-cards-accessories/Graphics-cards-c37?q=rx%206800#d~757.515.680.346.1200.459.2185.48.73.895.306%2bs~pa%2ba~4\n",
      "https://www.toppreise.ch/browse/Computer-accessories/Computer-components/Graphics-cards-accessories/Graphics-cards-c37?q=rx%206800%20xt#d~757.515.680.346.1200.459.2185.48.73.895.306%2bs~pa%2ba~4\n",
      "https://www.toppreise.ch/browse/Computer-accessories/Computer-components/Graphics-cards-accessories/Graphics-cards-c37?q=rx%206900%20xt#d~757.515.680.346.1200.459.2185.48.73.895.306%2bs~pa%2ba~4\n",
      "https://www.toppreise.ch/browse/Computer-accessories/Computer-components/Graphics-cards-accessories/Graphics-cards-c37?q=rx%206950%20xt#d~757.515.680.346.1200.459.2185.48.73.895.306%2bs~pa%2ba~4\n",
      "https://www.toppreise.ch/browse/Computer-accessories/Computer-components/Graphics-cards-accessories/Graphics-cards-c37?q=rtx%203060#d~757.515.680.346.1200.459.2185.48.73.895.306%2bs~pa%2ba~4\n",
      "https://www.toppreise.ch/browse/Computer-accessories/Computer-components/Graphics-cards-accessories/Graphics-cards-c37?q=rtx%203060%20ti#d~757.515.680.346.1200.459.2185.48.73.895.306%2bs~pa%2ba~4\n",
      "https://www.toppreise.ch/browse/Computer-accessories/Computer-components/Graphics-cards-accessories/Graphics-cards-c37?q=rtx%203070#d~757.515.680.346.1200.459.2185.48.73.895.306%2bs~pa%2ba~4\n",
      "https://www.toppreise.ch/browse/Computer-accessories/Computer-components/Graphics-cards-accessories/Graphics-cards-c37?q=rtx%203070%20ti#d~757.515.680.346.1200.459.2185.48.73.895.306%2bs~pa%2ba~4\n",
      "https://www.toppreise.ch/browse/Computer-accessories/Computer-components/Graphics-cards-accessories/Graphics-cards-c37?q=rtx%203080#d~757.515.680.346.1200.459.2185.48.73.895.306%2bs~pa%2ba~4\n",
      "https://www.toppreise.ch/browse/Computer-accessories/Computer-components/Graphics-cards-accessories/Graphics-cards-c37?q=rtx%203080%20ti#d~757.515.680.346.1200.459.2185.48.73.895.306%2bs~pa%2ba~4\n",
      "https://www.toppreise.ch/browse/Computer-accessories/Computer-components/Graphics-cards-accessories/Graphics-cards-c37?q=rtx%203090#d~757.515.680.346.1200.459.2185.48.73.895.306%2bs~pa%2ba~4\n",
      "https://www.toppreise.ch/browse/Computer-accessories/Computer-components/Graphics-cards-accessories/Graphics-cards-c37?q=rtx%203090%20ti#d~757.515.680.346.1200.459.2185.48.73.895.306%2bs~pa%2ba~4\n",
      "https://www.toppreise.ch/browse/Computer-accessories/Computer-components/Graphics-cards-accessories/Graphics-cards-c37?q=rtx%204080#d~757.515.680.346.1200.459.2185.48.73.895.306%2bs~pa%2ba~4\n",
      "https://www.toppreise.ch/browse/Computer-accessories/Computer-components/Graphics-cards-accessories/Graphics-cards-c37?q=rtx%204090#d~757.515.680.346.1200.459.2185.48.73.895.306%2bs~pa%2ba~4\n"
     ]
    }
   ],
   "source": [
    "from bs4 import BeautifulSoup\n",
    "import requests\n",
    "from csv import writer\n",
    "import datetime\n",
    "import time\n",
    "current_time = datetime.datetime.now()\n",
    "time = [str(current_time.year),\n",
    "        str(current_time.month),\n",
    "        str(current_time.day),\n",
    "        str(current_time.hour),\n",
    "        str(current_time.minute)]\n",
    "print(time)\n",
    "template = \"https://www.toppreise.ch/browse/Computer-accessories/Computer-components/Graphics-cards-accessories/Graphics-cards-c37?q=TEMPLATE#d~757.515.680.346.1200.459.2185.48.73.895.306%2bs~pa%2ba~4\"\n",
    "models = ['rx%206600',\n",
    "          'rx%206600%20xt',\n",
    "          'rx%206650%20xt',\n",
    "          'rx%206700%20xt',\n",
    "          'rx%206750%20xt',\n",
    "          'rx%206800',\n",
    "          'rx%206800%20xt',\n",
    "          'rx%206900%20xt',\n",
    "          'rx%206950%20xt',\n",
    "          'rtx%203060',\n",
    "          'rtx%203060%20ti',\n",
    "          'rtx%203070',\n",
    "          'rtx%203070%20ti',\n",
    "          'rtx%203080',\n",
    "          'rtx%203080%20ti',\n",
    "          'rtx%203090',\n",
    "          'rtx%203090%20ti',\n",
    "          'rtx%204080',\n",
    "          'rtx%204090']\n",
    "\"\"\"\n",
    "template = \"https://www.toppreise.ch/browse/Computer-accessories/Computer-components/Graphics-cards-accessories/Graphics-cards-c37#TEMPLATE%2bd~757.515.680.346.1200.459.2185.48.73.895.306%2ba~4\"\n",
    "models = ['oi~ongff417x14%3asv92886',\n",
    "          'oi~ongff417x14%3asv91612',\n",
    "          'oi~ongff417x14%3asv96176',\n",
    "          'oi~ongff417x14%3asv89280',\n",
    "          'oi~ongff417x14%3asv96213',\n",
    "          'oi~ongff417x14%3asv86808',\n",
    "          'oi~ongff417x14%3asv86814',\n",
    "          'oi~ongff417x14%3asv87960',\n",
    "          'oi~ongff417x14%3asv96230',\n",
    "          'oi~ongff417x14%3asv88206',\n",
    "          'oi~ongff417x14%3asv87488',\n",
    "          'oi~ongff417x14%3asv85548',\n",
    "          'oi~ongff417x14%3asv90637',\n",
    "          'oi~ongff417x14%3asv85528',\n",
    "          'oi~ongff417x14%3asv90641',\n",
    "          'oi~ongff417x14%3asv85505',\n",
    "          'oi~ongff417x14%3asv95454',\n",
    "          'oi~ongff417x14%3asv98204',\n",
    "          'oi~ongff417x14%3asv98225']\n",
    "\"\"\"\n",
    "urls = []\n",
    "for i in range(0, len(models)):\n",
    "    urls.append(template.replace('TEMPLATE', models[i]))\n",
    "    print(urls[i])"
   ]
  },
  {
   "cell_type": "code",
   "execution_count": 92,
   "id": "cb044c59",
   "metadata": {},
   "outputs": [
    {
     "name": "stdout",
     "output_type": "stream",
     "text": [
      "<Response [200]>\n",
      "[1722.45, 1841.15, 1991.6, 1846.8, 1404.6, 1286.75, 1405.65, 1725.65, 1978.7, 1708.15, 1816.95, 1752.1, 2237.9, 1939.65, 847.45, 823.3, 797.34, 2019.0, 2506.9, 607.95, 572.7, 626.8, 1255.85, 1274.65, 1336.3, 1396.85, 1952.0, 2049.0, 358.1, 388.8, 628.4, 736.9, 571.1, 1232.95, 1253.6, 686.15, 719.0, 792.4, 782.35, 579.7, 571.0, 614.85, 759.8, 783.15, 1316.5, 530.7, 551.99]\n"
     ]
    }
   ],
   "source": [
    "for i in range(0, len(models)):\n",
    "    page = requests.get(urls[i])\n",
    "    print(page)\n",
    "    soup = BeautifulSoup(page.content, 'html.parser')\n",
    "    t = soup.find_all('div', class_=\"priceContainer shippingPrice\")\n",
    "    #lists = t.find('div', class_=\"Plugin_Price\")\n",
    "    lists = []\n",
    "    for i in t:\n",
    "        lists.append(float(i.find('div', class_='Plugin_Price').text.replace('<div class=\"Plugin_Price\"> ', '').replace(' </div>', '').replace('\\'', '')))\n",
    "    print(lists)\n",
    "    name = \"tempname.csv\"\n",
    "    lists.sort()\n",
    "\n",
    "#with open(name, 'a', encoding='utf8', newline='') as f:\n",
    " #   Writer = writer(f)\n",
    "  #  header = ['Model', 'Price']\n",
    "   # Writer.writerow(lists)\n"
   ]
  },
  {
   "cell_type": "code",
   "execution_count": null,
   "id": "91e28a7b",
   "metadata": {
    "scrolled": true
   },
   "outputs": [],
   "source": []
  }
 ],
 "metadata": {
  "kernelspec": {
   "display_name": "Python 3 (ipykernel)",
   "language": "python",
   "name": "python3"
  },
  "language_info": {
   "codemirror_mode": {
    "name": "ipython",
    "version": 3
   },
   "file_extension": ".py",
   "mimetype": "text/x-python",
   "name": "python",
   "nbconvert_exporter": "python",
   "pygments_lexer": "ipython3",
   "version": "3.9.12"
  }
 },
 "nbformat": 4,
 "nbformat_minor": 5
}
