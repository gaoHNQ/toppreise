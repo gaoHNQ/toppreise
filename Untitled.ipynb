{
 "cells": [
  {
   "cell_type": "code",
   "execution_count": 4,
   "id": "09d1da65",
   "metadata": {},
   "outputs": [
    {
     "name": "stdout",
     "output_type": "stream",
     "text": [
      "['2022', '11', '20', '23', '52']\n",
      "https://www.toppreise.ch/browse/Computer-accessories/Computer-components/Graphics-cards-accessories/Graphics-cards-c37?q=rx%206600#d~757.515.680.346.1200.459.2185.48.73.895.306%2bs~pa%2ba~4\n",
      "https://www.toppreise.ch/browse/Computer-accessories/Computer-components/Graphics-cards-accessories/Graphics-cards-c37?q=rx%206600%20xt#d~757.515.680.346.1200.459.2185.48.73.895.306%2bs~pa%2ba~4\n",
      "https://www.toppreise.ch/browse/Computer-accessories/Computer-components/Graphics-cards-accessories/Graphics-cards-c37?q=rx%206650%20xt#d~757.515.680.346.1200.459.2185.48.73.895.306%2bs~pa%2ba~4\n",
      "https://www.toppreise.ch/browse/Computer-accessories/Computer-components/Graphics-cards-accessories/Graphics-cards-c37?q=rx%206700%20xt#d~757.515.680.346.1200.459.2185.48.73.895.306%2bs~pa%2ba~4\n",
      "https://www.toppreise.ch/browse/Computer-accessories/Computer-components/Graphics-cards-accessories/Graphics-cards-c37?q=rx%206750%20xt#d~757.515.680.346.1200.459.2185.48.73.895.306%2bs~pa%2ba~4\n",
      "https://www.toppreise.ch/browse/Computer-accessories/Computer-components/Graphics-cards-accessories/Graphics-cards-c37?q=rx%206800#d~757.515.680.346.1200.459.2185.48.73.895.306%2bs~pa%2ba~4\n",
      "https://www.toppreise.ch/browse/Computer-accessories/Computer-components/Graphics-cards-accessories/Graphics-cards-c37?q=rx%206800%20xt#d~757.515.680.346.1200.459.2185.48.73.895.306%2bs~pa%2ba~4\n",
      "https://www.toppreise.ch/browse/Computer-accessories/Computer-components/Graphics-cards-accessories/Graphics-cards-c37?q=rx%206900%20xt#d~757.515.680.346.1200.459.2185.48.73.895.306%2bs~pa%2ba~4\n",
      "https://www.toppreise.ch/browse/Computer-accessories/Computer-components/Graphics-cards-accessories/Graphics-cards-c37?q=rx%206950%20xt#d~757.515.680.346.1200.459.2185.48.73.895.306%2bs~pa%2ba~4\n",
      "https://www.toppreise.ch/browse/Computer-accessories/Computer-components/Graphics-cards-accessories/Graphics-cards-c37?q=rtx%203060#d~757.515.680.346.1200.459.2185.48.73.895.306%2bs~pa%2ba~4\n",
      "https://www.toppreise.ch/browse/Computer-accessories/Computer-components/Graphics-cards-accessories/Graphics-cards-c37?q=rtx%203060%20ti#d~757.515.680.346.1200.459.2185.48.73.895.306%2bs~pa%2ba~4\n",
      "https://www.toppreise.ch/browse/Computer-accessories/Computer-components/Graphics-cards-accessories/Graphics-cards-c37?q=rtx%203070#d~757.515.680.346.1200.459.2185.48.73.895.306%2bs~pa%2ba~4\n",
      "https://www.toppreise.ch/browse/Computer-accessories/Computer-components/Graphics-cards-accessories/Graphics-cards-c37?q=rtx%203070%20ti#d~757.515.680.346.1200.459.2185.48.73.895.306%2bs~pa%2ba~4\n",
      "https://www.toppreise.ch/browse/Computer-accessories/Computer-components/Graphics-cards-accessories/Graphics-cards-c37?q=rtx%203080#d~757.515.680.346.1200.459.2185.48.73.895.306%2bs~pa%2ba~4\n",
      "https://www.toppreise.ch/browse/Computer-accessories/Computer-components/Graphics-cards-accessories/Graphics-cards-c37?q=rtx%203080%20ti#d~757.515.680.346.1200.459.2185.48.73.895.306%2bs~pa%2ba~4\n",
      "https://www.toppreise.ch/browse/Computer-accessories/Computer-components/Graphics-cards-accessories/Graphics-cards-c37?q=rtx%203090#d~757.515.680.346.1200.459.2185.48.73.895.306%2bs~pa%2ba~4\n",
      "https://www.toppreise.ch/browse/Computer-accessories/Computer-components/Graphics-cards-accessories/Graphics-cards-c37?q=rtx%203090%20ti#d~757.515.680.346.1200.459.2185.48.73.895.306%2bs~pa%2ba~4\n",
      "https://www.toppreise.ch/browse/Computer-accessories/Computer-components/Graphics-cards-accessories/Graphics-cards-c37?q=rtx%204080#d~757.515.680.346.1200.459.2185.48.73.895.306%2bs~pa%2ba~4\n",
      "https://www.toppreise.ch/browse/Computer-accessories/Computer-components/Graphics-cards-accessories/Graphics-cards-c37?q=rtx%204090#d~757.515.680.346.1200.459.2185.48.73.895.306%2bs~pa%2ba~4\n"
     ]
    },
    {
     "ename": "WebDriverException",
     "evalue": "Message: 'geckodriver' executable needs to be in PATH. \n",
     "output_type": "error",
     "traceback": [
      "\u001b[1;31m---------------------------------------------------------------------------\u001b[0m",
      "\u001b[1;31mFileNotFoundError\u001b[0m                         Traceback (most recent call last)",
      "File \u001b[1;32mC:\\ProgramData\\Anaconda3\\lib\\site-packages\\selenium\\webdriver\\common\\service.py:72\u001b[0m, in \u001b[0;36mService.start\u001b[1;34m(self)\u001b[0m\n\u001b[0;32m     71\u001b[0m     cmd\u001b[38;5;241m.\u001b[39mextend(\u001b[38;5;28mself\u001b[39m\u001b[38;5;241m.\u001b[39mcommand_line_args())\n\u001b[1;32m---> 72\u001b[0m     \u001b[38;5;28mself\u001b[39m\u001b[38;5;241m.\u001b[39mprocess \u001b[38;5;241m=\u001b[39m \u001b[43msubprocess\u001b[49m\u001b[38;5;241;43m.\u001b[39;49m\u001b[43mPopen\u001b[49m\u001b[43m(\u001b[49m\u001b[43mcmd\u001b[49m\u001b[43m,\u001b[49m\u001b[43m \u001b[49m\u001b[43menv\u001b[49m\u001b[38;5;241;43m=\u001b[39;49m\u001b[38;5;28;43mself\u001b[39;49m\u001b[38;5;241;43m.\u001b[39;49m\u001b[43menv\u001b[49m\u001b[43m,\u001b[49m\n\u001b[0;32m     73\u001b[0m \u001b[43m                                    \u001b[49m\u001b[43mclose_fds\u001b[49m\u001b[38;5;241;43m=\u001b[39;49m\u001b[43mplatform\u001b[49m\u001b[38;5;241;43m.\u001b[39;49m\u001b[43msystem\u001b[49m\u001b[43m(\u001b[49m\u001b[43m)\u001b[49m\u001b[43m \u001b[49m\u001b[38;5;241;43m!=\u001b[39;49m\u001b[43m \u001b[49m\u001b[38;5;124;43m'\u001b[39;49m\u001b[38;5;124;43mWindows\u001b[39;49m\u001b[38;5;124;43m'\u001b[39;49m\u001b[43m,\u001b[49m\n\u001b[0;32m     74\u001b[0m \u001b[43m                                    \u001b[49m\u001b[43mstdout\u001b[49m\u001b[38;5;241;43m=\u001b[39;49m\u001b[38;5;28;43mself\u001b[39;49m\u001b[38;5;241;43m.\u001b[39;49m\u001b[43mlog_file\u001b[49m\u001b[43m,\u001b[49m\n\u001b[0;32m     75\u001b[0m \u001b[43m                                    \u001b[49m\u001b[43mstderr\u001b[49m\u001b[38;5;241;43m=\u001b[39;49m\u001b[38;5;28;43mself\u001b[39;49m\u001b[38;5;241;43m.\u001b[39;49m\u001b[43mlog_file\u001b[49m\u001b[43m,\u001b[49m\n\u001b[0;32m     76\u001b[0m \u001b[43m                                    \u001b[49m\u001b[43mstdin\u001b[49m\u001b[38;5;241;43m=\u001b[39;49m\u001b[43mPIPE\u001b[49m\u001b[43m)\u001b[49m\n\u001b[0;32m     77\u001b[0m \u001b[38;5;28;01mexcept\u001b[39;00m \u001b[38;5;167;01mTypeError\u001b[39;00m:\n",
      "File \u001b[1;32mC:\\ProgramData\\Anaconda3\\lib\\subprocess.py:951\u001b[0m, in \u001b[0;36mPopen.__init__\u001b[1;34m(self, args, bufsize, executable, stdin, stdout, stderr, preexec_fn, close_fds, shell, cwd, env, universal_newlines, startupinfo, creationflags, restore_signals, start_new_session, pass_fds, user, group, extra_groups, encoding, errors, text, umask)\u001b[0m\n\u001b[0;32m    948\u001b[0m             \u001b[38;5;28mself\u001b[39m\u001b[38;5;241m.\u001b[39mstderr \u001b[38;5;241m=\u001b[39m io\u001b[38;5;241m.\u001b[39mTextIOWrapper(\u001b[38;5;28mself\u001b[39m\u001b[38;5;241m.\u001b[39mstderr,\n\u001b[0;32m    949\u001b[0m                     encoding\u001b[38;5;241m=\u001b[39mencoding, errors\u001b[38;5;241m=\u001b[39merrors)\n\u001b[1;32m--> 951\u001b[0m     \u001b[38;5;28;43mself\u001b[39;49m\u001b[38;5;241;43m.\u001b[39;49m\u001b[43m_execute_child\u001b[49m\u001b[43m(\u001b[49m\u001b[43margs\u001b[49m\u001b[43m,\u001b[49m\u001b[43m \u001b[49m\u001b[43mexecutable\u001b[49m\u001b[43m,\u001b[49m\u001b[43m \u001b[49m\u001b[43mpreexec_fn\u001b[49m\u001b[43m,\u001b[49m\u001b[43m \u001b[49m\u001b[43mclose_fds\u001b[49m\u001b[43m,\u001b[49m\n\u001b[0;32m    952\u001b[0m \u001b[43m                        \u001b[49m\u001b[43mpass_fds\u001b[49m\u001b[43m,\u001b[49m\u001b[43m \u001b[49m\u001b[43mcwd\u001b[49m\u001b[43m,\u001b[49m\u001b[43m \u001b[49m\u001b[43menv\u001b[49m\u001b[43m,\u001b[49m\n\u001b[0;32m    953\u001b[0m \u001b[43m                        \u001b[49m\u001b[43mstartupinfo\u001b[49m\u001b[43m,\u001b[49m\u001b[43m \u001b[49m\u001b[43mcreationflags\u001b[49m\u001b[43m,\u001b[49m\u001b[43m \u001b[49m\u001b[43mshell\u001b[49m\u001b[43m,\u001b[49m\n\u001b[0;32m    954\u001b[0m \u001b[43m                        \u001b[49m\u001b[43mp2cread\u001b[49m\u001b[43m,\u001b[49m\u001b[43m \u001b[49m\u001b[43mp2cwrite\u001b[49m\u001b[43m,\u001b[49m\n\u001b[0;32m    955\u001b[0m \u001b[43m                        \u001b[49m\u001b[43mc2pread\u001b[49m\u001b[43m,\u001b[49m\u001b[43m \u001b[49m\u001b[43mc2pwrite\u001b[49m\u001b[43m,\u001b[49m\n\u001b[0;32m    956\u001b[0m \u001b[43m                        \u001b[49m\u001b[43merrread\u001b[49m\u001b[43m,\u001b[49m\u001b[43m \u001b[49m\u001b[43merrwrite\u001b[49m\u001b[43m,\u001b[49m\n\u001b[0;32m    957\u001b[0m \u001b[43m                        \u001b[49m\u001b[43mrestore_signals\u001b[49m\u001b[43m,\u001b[49m\n\u001b[0;32m    958\u001b[0m \u001b[43m                        \u001b[49m\u001b[43mgid\u001b[49m\u001b[43m,\u001b[49m\u001b[43m \u001b[49m\u001b[43mgids\u001b[49m\u001b[43m,\u001b[49m\u001b[43m \u001b[49m\u001b[43muid\u001b[49m\u001b[43m,\u001b[49m\u001b[43m \u001b[49m\u001b[43mumask\u001b[49m\u001b[43m,\u001b[49m\n\u001b[0;32m    959\u001b[0m \u001b[43m                        \u001b[49m\u001b[43mstart_new_session\u001b[49m\u001b[43m)\u001b[49m\n\u001b[0;32m    960\u001b[0m \u001b[38;5;28;01mexcept\u001b[39;00m:\n\u001b[0;32m    961\u001b[0m     \u001b[38;5;66;03m# Cleanup if the child failed starting.\u001b[39;00m\n",
      "File \u001b[1;32mC:\\ProgramData\\Anaconda3\\lib\\subprocess.py:1420\u001b[0m, in \u001b[0;36mPopen._execute_child\u001b[1;34m(self, args, executable, preexec_fn, close_fds, pass_fds, cwd, env, startupinfo, creationflags, shell, p2cread, p2cwrite, c2pread, c2pwrite, errread, errwrite, unused_restore_signals, unused_gid, unused_gids, unused_uid, unused_umask, unused_start_new_session)\u001b[0m\n\u001b[0;32m   1419\u001b[0m \u001b[38;5;28;01mtry\u001b[39;00m:\n\u001b[1;32m-> 1420\u001b[0m     hp, ht, pid, tid \u001b[38;5;241m=\u001b[39m \u001b[43m_winapi\u001b[49m\u001b[38;5;241;43m.\u001b[39;49m\u001b[43mCreateProcess\u001b[49m\u001b[43m(\u001b[49m\u001b[43mexecutable\u001b[49m\u001b[43m,\u001b[49m\u001b[43m \u001b[49m\u001b[43margs\u001b[49m\u001b[43m,\u001b[49m\n\u001b[0;32m   1421\u001b[0m \u001b[43m                             \u001b[49m\u001b[38;5;66;43;03m# no special security\u001b[39;49;00m\n\u001b[0;32m   1422\u001b[0m \u001b[43m                             \u001b[49m\u001b[38;5;28;43;01mNone\u001b[39;49;00m\u001b[43m,\u001b[49m\u001b[43m \u001b[49m\u001b[38;5;28;43;01mNone\u001b[39;49;00m\u001b[43m,\u001b[49m\n\u001b[0;32m   1423\u001b[0m \u001b[43m                             \u001b[49m\u001b[38;5;28;43mint\u001b[39;49m\u001b[43m(\u001b[49m\u001b[38;5;129;43;01mnot\u001b[39;49;00m\u001b[43m \u001b[49m\u001b[43mclose_fds\u001b[49m\u001b[43m)\u001b[49m\u001b[43m,\u001b[49m\n\u001b[0;32m   1424\u001b[0m \u001b[43m                             \u001b[49m\u001b[43mcreationflags\u001b[49m\u001b[43m,\u001b[49m\n\u001b[0;32m   1425\u001b[0m \u001b[43m                             \u001b[49m\u001b[43menv\u001b[49m\u001b[43m,\u001b[49m\n\u001b[0;32m   1426\u001b[0m \u001b[43m                             \u001b[49m\u001b[43mcwd\u001b[49m\u001b[43m,\u001b[49m\n\u001b[0;32m   1427\u001b[0m \u001b[43m                             \u001b[49m\u001b[43mstartupinfo\u001b[49m\u001b[43m)\u001b[49m\n\u001b[0;32m   1428\u001b[0m \u001b[38;5;28;01mfinally\u001b[39;00m:\n\u001b[0;32m   1429\u001b[0m     \u001b[38;5;66;03m# Child is launched. Close the parent's copy of those pipe\u001b[39;00m\n\u001b[0;32m   1430\u001b[0m     \u001b[38;5;66;03m# handles that only the child should have open.  You need\u001b[39;00m\n\u001b[1;32m   (...)\u001b[0m\n\u001b[0;32m   1433\u001b[0m     \u001b[38;5;66;03m# pipe will not close when the child process exits and the\u001b[39;00m\n\u001b[0;32m   1434\u001b[0m     \u001b[38;5;66;03m# ReadFile will hang.\u001b[39;00m\n",
      "\u001b[1;31mFileNotFoundError\u001b[0m: [WinError 2] The system cannot find the file specified",
      "\nDuring handling of the above exception, another exception occurred:\n",
      "\u001b[1;31mWebDriverException\u001b[0m                        Traceback (most recent call last)",
      "Input \u001b[1;32mIn [4]\u001b[0m, in \u001b[0;36m<cell line: 67>\u001b[1;34m()\u001b[0m\n\u001b[0;32m     65\u001b[0m options \u001b[38;5;241m=\u001b[39m FirefoxOptions()\n\u001b[0;32m     66\u001b[0m options\u001b[38;5;241m.\u001b[39madd_argument(\u001b[38;5;124m\"\u001b[39m\u001b[38;5;124m--headless\u001b[39m\u001b[38;5;124m\"\u001b[39m)\n\u001b[1;32m---> 67\u001b[0m driver \u001b[38;5;241m=\u001b[39m \u001b[43mwebdriver\u001b[49m\u001b[38;5;241;43m.\u001b[39;49m\u001b[43mFirefox\u001b[49m\u001b[43m(\u001b[49m\u001b[43moptions\u001b[49m\u001b[38;5;241;43m=\u001b[39;49m\u001b[43moptions\u001b[49m\u001b[43m)\u001b[49m\n\u001b[0;32m     68\u001b[0m driver\u001b[38;5;241m.\u001b[39mget(\u001b[38;5;124m\"\u001b[39m\u001b[38;5;124mhttps://pythonbasics.org\u001b[39m\u001b[38;5;124m\"\u001b[39m)\n",
      "File \u001b[1;32mC:\\ProgramData\\Anaconda3\\lib\\site-packages\\selenium\\webdriver\\firefox\\webdriver.py:164\u001b[0m, in \u001b[0;36mWebDriver.__init__\u001b[1;34m(self, firefox_profile, firefox_binary, timeout, capabilities, proxy, executable_path, options, service_log_path, firefox_options, service_args, desired_capabilities, log_path, keep_alive)\u001b[0m\n\u001b[0;32m    159\u001b[0m capabilities\u001b[38;5;241m.\u001b[39mpop(\u001b[38;5;124m\"\u001b[39m\u001b[38;5;124mmarionette\u001b[39m\u001b[38;5;124m\"\u001b[39m)\n\u001b[0;32m    160\u001b[0m \u001b[38;5;28mself\u001b[39m\u001b[38;5;241m.\u001b[39mservice \u001b[38;5;241m=\u001b[39m Service(\n\u001b[0;32m    161\u001b[0m     executable_path,\n\u001b[0;32m    162\u001b[0m     service_args\u001b[38;5;241m=\u001b[39mservice_args,\n\u001b[0;32m    163\u001b[0m     log_path\u001b[38;5;241m=\u001b[39mservice_log_path)\n\u001b[1;32m--> 164\u001b[0m \u001b[38;5;28;43mself\u001b[39;49m\u001b[38;5;241;43m.\u001b[39;49m\u001b[43mservice\u001b[49m\u001b[38;5;241;43m.\u001b[39;49m\u001b[43mstart\u001b[49m\u001b[43m(\u001b[49m\u001b[43m)\u001b[49m\n\u001b[0;32m    166\u001b[0m capabilities\u001b[38;5;241m.\u001b[39mupdate(options\u001b[38;5;241m.\u001b[39mto_capabilities())\n\u001b[0;32m    168\u001b[0m executor \u001b[38;5;241m=\u001b[39m FirefoxRemoteConnection(\n\u001b[0;32m    169\u001b[0m     remote_server_addr\u001b[38;5;241m=\u001b[39m\u001b[38;5;28mself\u001b[39m\u001b[38;5;241m.\u001b[39mservice\u001b[38;5;241m.\u001b[39mservice_url)\n",
      "File \u001b[1;32mC:\\ProgramData\\Anaconda3\\lib\\site-packages\\selenium\\webdriver\\common\\service.py:81\u001b[0m, in \u001b[0;36mService.start\u001b[1;34m(self)\u001b[0m\n\u001b[0;32m     79\u001b[0m \u001b[38;5;28;01mexcept\u001b[39;00m \u001b[38;5;167;01mOSError\u001b[39;00m \u001b[38;5;28;01mas\u001b[39;00m err:\n\u001b[0;32m     80\u001b[0m     \u001b[38;5;28;01mif\u001b[39;00m err\u001b[38;5;241m.\u001b[39merrno \u001b[38;5;241m==\u001b[39m errno\u001b[38;5;241m.\u001b[39mENOENT:\n\u001b[1;32m---> 81\u001b[0m         \u001b[38;5;28;01mraise\u001b[39;00m WebDriverException(\n\u001b[0;32m     82\u001b[0m             \u001b[38;5;124m\"\u001b[39m\u001b[38;5;124m'\u001b[39m\u001b[38;5;132;01m%s\u001b[39;00m\u001b[38;5;124m'\u001b[39m\u001b[38;5;124m executable needs to be in PATH. \u001b[39m\u001b[38;5;132;01m%s\u001b[39;00m\u001b[38;5;124m\"\u001b[39m \u001b[38;5;241m%\u001b[39m (\n\u001b[0;32m     83\u001b[0m                 os\u001b[38;5;241m.\u001b[39mpath\u001b[38;5;241m.\u001b[39mbasename(\u001b[38;5;28mself\u001b[39m\u001b[38;5;241m.\u001b[39mpath), \u001b[38;5;28mself\u001b[39m\u001b[38;5;241m.\u001b[39mstart_error_message)\n\u001b[0;32m     84\u001b[0m         )\n\u001b[0;32m     85\u001b[0m     \u001b[38;5;28;01melif\u001b[39;00m err\u001b[38;5;241m.\u001b[39merrno \u001b[38;5;241m==\u001b[39m errno\u001b[38;5;241m.\u001b[39mEACCES:\n\u001b[0;32m     86\u001b[0m         \u001b[38;5;28;01mraise\u001b[39;00m WebDriverException(\n\u001b[0;32m     87\u001b[0m             \u001b[38;5;124m\"\u001b[39m\u001b[38;5;124m'\u001b[39m\u001b[38;5;132;01m%s\u001b[39;00m\u001b[38;5;124m'\u001b[39m\u001b[38;5;124m executable may have wrong permissions. \u001b[39m\u001b[38;5;132;01m%s\u001b[39;00m\u001b[38;5;124m\"\u001b[39m \u001b[38;5;241m%\u001b[39m (\n\u001b[0;32m     88\u001b[0m                 os\u001b[38;5;241m.\u001b[39mpath\u001b[38;5;241m.\u001b[39mbasename(\u001b[38;5;28mself\u001b[39m\u001b[38;5;241m.\u001b[39mpath), \u001b[38;5;28mself\u001b[39m\u001b[38;5;241m.\u001b[39mstart_error_message)\n\u001b[0;32m     89\u001b[0m         )\n",
      "\u001b[1;31mWebDriverException\u001b[0m: Message: 'geckodriver' executable needs to be in PATH. \n"
     ]
    }
   ],
   "source": [
    "from bs4 import BeautifulSoup\n",
    "import requests\n",
    "from csv import writer\n",
    "import datetime\n",
    "import time\n",
    "#from selenium import webdriver\n",
    "#from selenium.webdriver.firefox.options import Options\n",
    "from selenium.webdriver.firefox.options import Options as FirefoxOptions\n",
    "current_time = datetime.datetime.now()\n",
    "time = [str(current_time.year),\n",
    "        str(current_time.month),\n",
    "        str(current_time.day),\n",
    "        str(current_time.hour),\n",
    "        str(current_time.minute)]\n",
    "print(time)\n",
    "template = \"https://www.toppreise.ch/browse/Computer-accessories/Computer-components/Graphics-cards-accessories/Graphics-cards-c37?q=TEMPLATE#d~757.515.680.346.1200.459.2185.48.73.895.306%2bs~pa%2ba~4\"\n",
    "models = ['rx%206600',\n",
    "          'rx%206600%20xt',\n",
    "          'rx%206650%20xt',\n",
    "          'rx%206700%20xt',\n",
    "          'rx%206750%20xt',\n",
    "          'rx%206800',\n",
    "          'rx%206800%20xt',\n",
    "          'rx%206900%20xt',\n",
    "          'rx%206950%20xt',\n",
    "          'rtx%203060',\n",
    "          'rtx%203060%20ti',\n",
    "          'rtx%203070',\n",
    "          'rtx%203070%20ti',\n",
    "          'rtx%203080',\n",
    "          'rtx%203080%20ti',\n",
    "          'rtx%203090',\n",
    "          'rtx%203090%20ti',\n",
    "          'rtx%204080',\n",
    "          'rtx%204090']\n",
    "\"\"\"\n",
    "template = \"https://www.toppreise.ch/browse/Computer-accessories/Computer-components/Graphics-cards-accessories/Graphics-cards-c37#TEMPLATE%2bd~757.515.680.346.1200.459.2185.48.73.895.306%2ba~4\"\n",
    "models = ['oi~ongff417x14%3asv92886',\n",
    "          'oi~ongff417x14%3asv91612',\n",
    "          'oi~ongff417x14%3asv96176',\n",
    "          'oi~ongff417x14%3asv89280',\n",
    "          'oi~ongff417x14%3asv96213',\n",
    "          'oi~ongff417x14%3asv86808',\n",
    "          'oi~ongff417x14%3asv86814',\n",
    "          'oi~ongff417x14%3asv87960',\n",
    "          'oi~ongff417x14%3asv96230',\n",
    "          'oi~ongff417x14%3asv88206',\n",
    "          'oi~ongff417x14%3asv87488',\n",
    "          'oi~ongff417x14%3asv85548',\n",
    "          'oi~ongff417x14%3asv90637',\n",
    "          'oi~ongff417x14%3asv85528',\n",
    "          'oi~ongff417x14%3asv90641',\n",
    "          'oi~ongff417x14%3asv85505',\n",
    "          'oi~ongff417x14%3asv95454',\n",
    "          'oi~ongff417x14%3asv98204',\n",
    "          'oi~ongff417x14%3asv98225']\n",
    "\"\"\"\n",
    "urls = []\n",
    "for i in range(0, len(models)):\n",
    "    urls.append(template.replace('TEMPLATE', models[i]))\n",
    "    print(urls[i])\n",
    "\n",
    "\n",
    "\n",
    "options = FirefoxOptions()\n",
    "options.add_argument(\"--headless\")\n",
    "driver = webdriver.Firefox(options=options)\n",
    "driver.get(\"https://pythonbasics.org\")"
   ]
  },
  {
   "cell_type": "code",
   "execution_count": 92,
   "id": "cb044c59",
   "metadata": {},
   "outputs": [
    {
     "name": "stdout",
     "output_type": "stream",
     "text": [
      "<Response [200]>\n",
      "[1722.45, 1841.15, 1991.6, 1846.8, 1404.6, 1286.75, 1405.65, 1725.65, 1978.7, 1708.15, 1816.95, 1752.1, 2237.9, 1939.65, 847.45, 823.3, 797.34, 2019.0, 2506.9, 607.95, 572.7, 626.8, 1255.85, 1274.65, 1336.3, 1396.85, 1952.0, 2049.0, 358.1, 388.8, 628.4, 736.9, 571.1, 1232.95, 1253.6, 686.15, 719.0, 792.4, 782.35, 579.7, 571.0, 614.85, 759.8, 783.15, 1316.5, 530.7, 551.99]\n"
     ]
    }
   ],
   "source": [
    "for i in models:\n",
    "    page = requests.get(urls[i])\n",
    "    print(page)\n",
    "    soup = BeautifulSoup(page.content, 'html.parser')\n",
    "    t = soup.find_all('div', class_=\"priceContainer shippingPrice\")\n",
    "    #lists = t.find('div', class_=\"Plugin_Price\")\n",
    "    lists = []\n",
    "    for i in t:\n",
    "        lists.append(float(i.find('div', class_='Plugin_Price').text.replace('<div class=\"Plugin_Price\"> ', '').replace(' </div>', '').replace('\\'', '')))\n",
    "    print(lists)\n",
    "    name = \"tempname.csv\"\n",
    "    lists.sort()\n",
    "\n",
    "#with open(name, 'a', encoding='utf8', newline='') as f:\n",
    " #   Writer = writer(f)\n",
    "  #  header = ['Model', 'Price']\n",
    "   # Writer.writerow(lists)\n"
   ]
  },
  {
   "cell_type": "code",
   "execution_count": null,
   "id": "91e28a7b",
   "metadata": {
    "scrolled": true
   },
   "outputs": [],
   "source": []
  }
 ],
 "metadata": {
  "kernelspec": {
   "display_name": "Python 3 (ipykernel)",
   "language": "python",
   "name": "python3"
  },
  "language_info": {
   "codemirror_mode": {
    "name": "ipython",
    "version": 3
   },
   "file_extension": ".py",
   "mimetype": "text/x-python",
   "name": "python",
   "nbconvert_exporter": "python",
   "pygments_lexer": "ipython3",
   "version": "3.9.12"
  }
 },
 "nbformat": 4,
 "nbformat_minor": 5
}
