{
 "cells": [
  {
   "cell_type": "code",
   "execution_count": null,
   "id": "09d1da65",
   "metadata": {},
   "outputs": [],
   "source": [
    "from bs4 import BeautifulSoup\n",
    "import requests\n",
    "from csv import writer\n",
    "import datetime\n",
    "import time\n",
    "current_time = datetime.datetime.now()\n",
    "time = [str(current_time.year),\n",
    "        str(current_time.month),\n",
    "        str(current_time.day),\n",
    "        str(current_time.hour),\n",
    "        str(current_time.minute)]\n",
    "print(time)\n",
    "template = \"https://www.toppreise.ch/browse/Computer-accessories/Computer-components/Graphics-cards-accessories/Graphics-cards-c37?q=TEMPLATE#d~757.515.680.346.1200.459.2185.48.73.895.306%2bs~pa%2ba~4\"\n",
    "models = ['rx%206600',\n",
    "          'rx%206600%20xt',\n",
    "          'rx%206650%20xt',\n",
    "          'rx%206700%20xt',\n",
    "          'rx%206750%20xt',\n",
    "          'rx%206800',\n",
    "          'rx%206800%20xt',\n",
    "          'rx%206900%20xt',\n",
    "          'rx%206950%20xt',\n",
    "          'rtx%203060',\n",
    "          'rtx%203060%20ti',\n",
    "          'rtx%203070',\n",
    "          'rtx%203070%20ti',\n",
    "          'rtx%203080',\n",
    "          'rtx%203080%20ti',\n",
    "          'rtx%203090',\n",
    "          'rtx%203090%20ti',\n",
    "          'rtx%204080',\n",
    "          'rtx%204090']\n",
    "\"\"\"\n",
    "template = \"https://www.toppreise.ch/browse/Computer-accessories/Computer-components/Graphics-cards-accessories/Graphics-cards-c37#TEMPLATE%2bd~757.515.680.346.1200.459.2185.48.73.895.306%2ba~4\"\n",
    "models = ['oi~ongff417x14%3asv92886',\n",
    "          'oi~ongff417x14%3asv91612',\n",
    "          'oi~ongff417x14%3asv96176',\n",
    "          'oi~ongff417x14%3asv89280',\n",
    "          'oi~ongff417x14%3asv96213',\n",
    "          'oi~ongff417x14%3asv86808',\n",
    "          'oi~ongff417x14%3asv86814',\n",
    "          'oi~ongff417x14%3asv87960',\n",
    "          'oi~ongff417x14%3asv96230',\n",
    "          'oi~ongff417x14%3asv88206',\n",
    "          'oi~ongff417x14%3asv87488',\n",
    "          'oi~ongff417x14%3asv85548',\n",
    "          'oi~ongff417x14%3asv90637',\n",
    "          'oi~ongff417x14%3asv85528',\n",
    "          'oi~ongff417x14%3asv90641',\n",
    "          'oi~ongff417x14%3asv85505',\n",
    "          'oi~ongff417x14%3asv95454',\n",
    "          'oi~ongff417x14%3asv98204',\n",
    "          'oi~ongff417x14%3asv98225']\n",
    "\"\"\"\n",
    "urls = []\n",
    "for i in range(0, len(models)):\n",
    "    urls.append(template.replace('TEMPLATE', models[i]))\n",
    "    print(urls[i])"
   ]
  },
  {
   "cell_type": "code",
   "execution_count": null,
   "id": "cb044c59",
   "metadata": {},
   "outputs": [],
   "source": [
    "toWrite = time\n",
    "name = \"tempname.csv\"\n",
    "with open(name, 'a', encoding='utf8', newline='') as f:\n",
    "    lists = []\n",
    "    Writer = writer(f)\n",
    "    for i in range(0, len(models)):\n",
    "        page = requests.get(urls[i])\n",
    "        soup = BeautifulSoup(page.content, 'html.parser')\n",
    "        t = soup.find_all('div', class_=\"priceContainer shippingPrice\")\n",
    "        for i in t:\n",
    "            lists.append(float(i.find('div', class_='Plugin_Price').text.replace('<div class=\"Plugin_Price\"> ', '').replace(' </div>', '').replace('\\'', '')))\n",
    "        lists.sort()\n",
    "        toWrite.append(lists[0])\n",
    "        print(toWrite)\n",
    "        time.sleep(2)\n",
    "    Writer.writerow(lists)\n"
   ]
  },
  {
   "cell_type": "code",
   "execution_count": null,
   "id": "91e28a7b",
   "metadata": {
    "scrolled": true
   },
   "outputs": [],
   "source": []
  }
 ],
 "metadata": {
  "kernelspec": {
   "display_name": "Python 3 (ipykernel)",
   "language": "python",
   "name": "python3"
  },
  "language_info": {
   "codemirror_mode": {
    "name": "ipython",
    "version": 3
   },
   "file_extension": ".py",
   "mimetype": "text/x-python",
   "name": "python",
   "nbconvert_exporter": "python",
   "pygments_lexer": "ipython3",
   "version": "3.9.12"
  }
 },
 "nbformat": 4,
 "nbformat_minor": 5
}
